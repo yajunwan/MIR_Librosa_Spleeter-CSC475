{
 "cells": [
  {
   "cell_type": "markdown",
   "metadata": {},
   "source": [
    "Ex 1 (4 pts). Logistic Regression (by hand)\n",
    "--\n",
    "\n",
    "Suppose we have the following normalized dataset\n",
    "\n",
    "$$\n",
    "\\begin{array}{lllr}\n",
    "GPA\t&GRE\t&Dummy\t&y \\\\ \\hline\n",
    "1\t&1\t&1\t&1 \\\\\n",
    "0.9\t&1\t&1\t&1 \\\\\n",
    "0.9\t&0.875\t&1\t&1 \\\\\n",
    "0.7\t&0.75\t&1\t&-1 \\\\\n",
    "0.6\t&0.875\t&1\t&-1 \\\\\n",
    "\\end{array}\n",
    "$$\t\t\t\n",
    "\t\t\t\n",
    "and want to construct a Logistic Regression classifier using Gradient Descent for Maximum Likelihood. If we start with an all zero weight vector, what will the weight vector be after the first iteration? (Consider kappa=2)\n",
    "Show the details of your calculations. This is a pencil and paper exercise. See the posted Excel spreadsheet for an example. \n"
   ]
  },
  {
   "cell_type": "markdown",
   "metadata": {},
   "source": [
    "Ex 2 (10 pts). Logistic Regression - Gradient Descent\n",
    "--\n",
    "In this part you will build a logistic regression model using Numpy and doing gradient descent. \n",
    "You should complete the TODO parts in the following cells. "
   ]
  },
  {
   "cell_type": "code",
   "execution_count": 96,
   "metadata": {},
   "outputs": [],
   "source": [
    "import numpy as np\n",
    "import matplotlib.pyplot as plt"
   ]
  },
  {
   "cell_type": "code",
   "execution_count": 97,
   "metadata": {},
   "outputs": [
    {
     "name": "stdout",
     "output_type": "stream",
     "text": [
      "[[1.     1.     1.    ]\n",
      " [1.     0.9    1.    ]\n",
      " [1.     0.9    0.875 ]\n",
      " [1.     0.7    0.75  ]\n",
      " [1.     0.6    0.875 ]\n",
      " [1.     0.6    0.875 ]\n",
      " [1.     0.5    0.75  ]\n",
      " [1.     0.5    0.8125]\n",
      " [1.     0.5    1.    ]\n",
      " [1.     0.5    0.875 ]\n",
      " [1.     0.5    0.875 ]]\n",
      "[[ 1]\n",
      " [ 1]\n",
      " [ 1]\n",
      " [-1]\n",
      " [-1]\n",
      " [ 1]\n",
      " [-1]\n",
      " [-1]\n",
      " [ 1]\n",
      " [-1]\n",
      " [ 1]]\n"
     ]
    }
   ],
   "source": [
    "# GPA, GRE scores dataset\n",
    "\n",
    "X=np.array([\n",
    "[1,1.0,1.0],\n",
    "[1,0.9,1.0],\n",
    "[1,0.9,0.875],\n",
    "[1,0.7,0.75],\n",
    "[1,0.6,0.875],\n",
    "[1,0.6,0.875],\n",
    "[1,0.5,0.75],\n",
    "[1,0.5,0.8125],\n",
    "[1,0.5,1.0],\n",
    "[1,0.5,0.875],\n",
    "[1,0.5,0.875]])\n",
    "\n",
    "print(X)\n",
    "\n",
    "y=np.array([[\n",
    "1,\n",
    "1,\n",
    "1,\n",
    "-1,\n",
    "-1,\n",
    "1,\n",
    "-1,\n",
    "-1,\n",
    "1,\n",
    "-1,\n",
    "1\n",
    "]]).T;\n",
    "\n",
    "print(y)"
   ]
  },
  {
   "cell_type": "markdown",
   "metadata": {},
   "source": [
    "Create a $w$ array with dimension 1 and X.shape[1] initialized to all ones, i.e. [[1,1,...,1]].\n",
    "\n",
    "Create a function to compute the loss (cost or error) function of logistic regression: \n",
    "$$\n",
    "E(w) = \\frac{1}{n} \\sum_{k=1}^n \\log(1+exp(-y^k*x^k @ w^T))\n",
    "$$\n",
    "where \"@\" is the matrix multiplication operator.\n",
    "Do not use loops. Utilize Numpy matrix operations. \n",
    "\n",
    "**Hints.**\n",
    "\n",
    "Create a function *error(x,y,w)* that returns $\\log(1+exp(-y*x@w^T))$. Use *np.log* and *np.exp*.\n",
    "\n",
    "Create a function *error_mean(X,y,w)* that calls *error(X,y,w)*. The latter returns an array of errors, one for each instance in X. Then sum these errors, and return the result divided by $n$. \n",
    "\n",
    "Do not hardcode $n$, but extract it from the shape of X. "
   ]
  },
  {
   "cell_type": "code",
   "execution_count": 98,
   "metadata": {},
   "outputs": [
    {
     "name": "stdout",
     "output_type": "stream",
     "text": [
      "1.1564462905916348\n"
     ]
    }
   ],
   "source": [
    "w = np.ones((1,X.shape[1]))\n",
    "\n",
    "#TODO\n",
    "def error(x,y,w):\n",
    "    error = np.log(1 + np.exp(-y * x @ w.T))\n",
    "    return error\n",
    "\n",
    "#TODO\n",
    "def error_mean(X,y,w):\n",
    "    sum = np.sum(error(X,y,w), axis=0, keepdims=True)[0][0]\n",
    "    error_mean = sum / X.shape[0]\n",
    "    return error_mean\n",
    "\n",
    "print(error_mean(X,y,w))"
   ]
  },
  {
   "cell_type": "markdown",
   "metadata": {},
   "source": [
    "Expected output: \n",
    "\n",
    "1.15644629059"
   ]
  },
  {
   "cell_type": "markdown",
   "metadata": {},
   "source": [
    "Create a function to compute the gradient of the loss function at a point (given by w). \n",
    "Recall the the gradient function is:\n",
    "$$\n",
    "\\nabla_E(w) = -\\frac{1}{n} \\sum_{k=1}^{n} \\frac{y^k * x^k}{1+\\exp(y^k*x^k@w^T)}\n",
    "$$\n",
    "\n",
    "**Hints.**\n",
    "\n",
    "Create a function *grad(x,y,w)* that returns \n",
    "$$\\frac{y * x}{1+\\exp(y*x@w^T)}$$\n",
    "\n",
    "Create a function *grad_mean(X,y,w)* that calls *grad(X,y,w)* and computes and returns $\\nabla_E(w)$.\n",
    "\n",
    "Do not use loops. Do not hard-code $n$."
   ]
  },
  {
   "cell_type": "code",
   "execution_count": 99,
   "metadata": {},
   "outputs": [
    {
     "name": "stdout",
     "output_type": "stream",
     "text": [
      "[0.37959402 0.20802755 0.30424018]\n"
     ]
    }
   ],
   "source": [
    "#TODO\n",
    "def grad(x,y,w):\n",
    "    result = y * x / (1 + np.exp(y * x @ w.T))\n",
    "    return result\n",
    "\n",
    "#TODO\n",
    "def grad_mean(X,y,w):\n",
    "    sum = np.sum(-grad(X,y,w), axis=0, keepdims=True)[0]\n",
    "    grad_mean = sum / X.shape[0]\n",
    "    return grad_mean\n",
    "\n",
    "print(grad_mean(X,y,w))"
   ]
  },
  {
   "cell_type": "markdown",
   "metadata": {},
   "source": [
    "Expected output:\n",
    "[ 0.37959402  0.20802755  0.30424018]"
   ]
  },
  {
   "cell_type": "markdown",
   "metadata": {},
   "source": [
    "Implement the gradient descent algorithm for logistic regression. \n",
    "\n",
    "For this create a function *fit(X,y,kappa,iter)* starts with an all-zero array for $w$ and improves it using *iter* iterations. Record in a list E the value of the *error_mean(X,y,w)* after each iteration. Return w,E. \n",
    "\n",
    "Plotting list E should give a decreasing curve. "
   ]
  },
  {
   "cell_type": "code",
   "execution_count": 100,
   "metadata": {},
   "outputs": [
    {
     "name": "stdout",
     "output_type": "stream",
     "text": [
      "[[-1.98019655  2.00560449  1.0649168 ]]\n"
     ]
    },
    {
     "data": {
      "image/png": "[encoded data removed]",
      "text/plain": [
       "<Figure size 432x288 with 1 Axes>"
      ]
     },
     "metadata": {
      "needs_background": "light"
     },
     "output_type": "display_data"
    }
   ],
   "source": [
    "def fit(X,y,kappa,iter):\n",
    "    w = np.zeros((1,X.shape[1]))\n",
    "    E = []\n",
    "\n",
    "    #TODO\n",
    "    for i in range(iter):\n",
    "        E.append(error_mean(X,y,w))\n",
    "        w = w-kappa*grad_mean(X,y,w)\n",
    "    \n",
    "    return w,E\n",
    "\n",
    "w,E = fit(X,y,1,100)\n",
    "print(w)\n",
    "plt.plot(E)\n",
    "plt.show()"
   ]
  },
  {
   "cell_type": "markdown",
   "metadata": {},
   "source": [
    "Expected output: \n",
    "[[-1.98019655  2.00560449  1.0649168 ]]\n",
    "\n",
    "and a decreasing curve of errors. "
   ]
  },
  {
   "cell_type": "markdown",
   "metadata": {},
   "source": [
    "Ex 3 (10 pts). Logistic regression - Application\n",
    "--\n",
    "In the first part of this exercise, we'll build a logistic regression model to predict whether a student gets admitted to a university. Suppose that you are the administrator of a university department and you want to determine each applicant's chance of admission based on their results on two exams. You have historical data from previous applicants that you can use as a training set for logistic regression. For each training example, you have the applicant's scores on two exams and the admissions decision. To accomplish this, we're going to build a classification model that estimates the probability of admission based on the exam scores.\n",
    "\n",
    "Let's start by examining the data."
   ]
  },
  {
   "cell_type": "code",
   "execution_count": 101,
   "metadata": {},
   "outputs": [
    {
     "data": {
      "text/html": [
       "<div>\n",
       "<style scoped>\n",
       "    .dataframe tbody tr th:only-of-type {\n",
       "        vertical-align: middle;\n",
       "    }\n",
       "\n",
       "    .dataframe tbody tr th {\n",
       "        vertical-align: top;\n",
       "    }\n",
       "\n",
       "    .dataframe thead th {\n",
       "        text-align: right;\n",
       "    }\n",
       "</style>\n",
       "<table border=\"1\" class=\"dataframe\">\n",
       "  <thead>\n",
       "    <tr style=\"text-align: right;\">\n",
       "      <th></th>\n",
       "      <th>Exam 1</th>\n",
       "      <th>Exam 2</th>\n",
       "      <th>Admitted</th>\n",
       "    </tr>\n",
       "  </thead>\n",
       "  <tbody>\n",
       "    <tr>\n",
       "      <th>0</th>\n",
       "      <td>34.623660</td>\n",
       "      <td>78.024693</td>\n",
       "      <td>0</td>\n",
       "    </tr>\n",
       "    <tr>\n",
       "      <th>1</th>\n",
       "      <td>30.286711</td>\n",
       "      <td>43.894998</td>\n",
       "      <td>0</td>\n",
       "    </tr>\n",
       "    <tr>\n",
       "      <th>2</th>\n",
       "      <td>35.847409</td>\n",
       "      <td>72.902198</td>\n",
       "      <td>0</td>\n",
       "    </tr>\n",
       "    <tr>\n",
       "      <th>3</th>\n",
       "      <td>60.182599</td>\n",
       "      <td>86.308552</td>\n",
       "      <td>1</td>\n",
       "    </tr>\n",
       "    <tr>\n",
       "      <th>4</th>\n",
       "      <td>79.032736</td>\n",
       "      <td>75.344376</td>\n",
       "      <td>1</td>\n",
       "    </tr>\n",
       "  </tbody>\n",
       "</table>\n",
       "</div>"
      ],
      "text/plain": [
       "      Exam 1     Exam 2  Admitted\n",
       "0  34.623660  78.024693         0\n",
       "1  30.286711  43.894998         0\n",
       "2  35.847409  72.902198         0\n",
       "3  60.182599  86.308552         1\n",
       "4  79.032736  75.344376         1"
      ]
     },
     "execution_count": 101,
     "metadata": {},
     "output_type": "execute_result"
    }
   ],
   "source": [
    "import pandas as pd\n",
    "\n",
    "data = pd.read_csv('ex3data1.txt', header=None, names=['Exam 1', 'Exam 2', 'Admitted'])\n",
    "data.head()"
   ]
  },
  {
   "cell_type": "code",
   "execution_count": 102,
   "metadata": {},
   "outputs": [
    {
     "name": "stdout",
     "output_type": "stream",
     "text": [
      "[[0.06542784 0.69465488]\n",
      " [0.00326632 0.19470455]\n",
      " [0.08296784 0.61961779]\n",
      " [0.43176427 0.81600135]\n",
      " [0.7019434  0.65539214]\n",
      " [0.2153456  0.37665959]\n",
      " [0.44500891 0.96545859]\n",
      " [0.64449684 0.23365526]\n",
      " [0.65989108 0.83229079]\n",
      " [0.77934283 0.18940757]\n",
      " [0.94315096 0.11165142]\n",
      " [0.64433793 0.        ]\n",
      " [0.74887421 0.67205614]\n",
      " [0.56336978 0.98314328]\n",
      " [0.13586997 0.6655353 ]\n",
      " [0.34273413 0.85846452]\n",
      " [0.55914951 0.32427783]\n",
      " [0.5430494  0.23547989]\n",
      " [0.58195856 0.91295399]\n",
      " [0.67250409 0.24862534]\n",
      " [0.53481039 0.17922749]\n",
      " [0.85450448 0.51557164]\n",
      " [0.29348214 0.26737325]\n",
      " [0.05952839 0.19931197]\n",
      " [0.68605319 0.56205138]\n",
      " [0.46169753 0.57643769]\n",
      " [0.71853306 0.20827835]\n",
      " [0.90377581 0.12008007]\n",
      " [0.45537943 0.28788555]\n",
      " [0.12508388 0.50379883]\n",
      " [0.44891644 0.61823627]\n",
      " [0.7932702  0.38743524]\n",
      " [0.3160307  0.47643451]\n",
      " [0.31513382 0.56879704]\n",
      " [0.14588236 0.59421062]\n",
      " [0.35225201 0.31656415]\n",
      " [0.05527778 1.        ]\n",
      " [0.48901588 0.73689201]\n",
      " [0.64112153 0.16069675]\n",
      " [0.05912103 0.65382979]\n",
      " [0.77174023 0.37653763]\n",
      " [0.3080005  0.23808317]\n",
      " [0.92282407 0.51219597]\n",
      " [0.74975856 0.14670505]\n",
      " [0.30083445 0.2229426 ]\n",
      " [0.4610047  0.31432447]\n",
      " [0.67557495 0.58381678]\n",
      " [0.97052763 0.82214305]\n",
      " [0.45886031 0.9692291 ]\n",
      " [0.88156804 0.85097827]\n",
      " [0.71501627 0.63808845]\n",
      " [0.99204044 0.44525373]\n",
      " [0.86697331 0.18731589]\n",
      " [0.06400678 0.43642522]\n",
      " [0.28992337 0.28127072]\n",
      " [0.27989286 0.42782079]\n",
      " [0.96872217 0.56042851]\n",
      " [0.03609592 0.95208625]\n",
      " [0.63337365 0.57453504]\n",
      " [0.59822584 0.70093719]\n",
      " [0.64981247 0.80796493]\n",
      " [0.07492278 0.24048881]\n",
      " [0.37545302 0.12683016]\n",
      " [0.         0.2781716 ]\n",
      " [0.20939718 0.52510375]\n",
      " [0.52318442 0.15364615]\n",
      " [0.14904504 0.98045518]\n",
      " [0.27252406 0.31172025]\n",
      " [0.71981433 0.90107289]\n",
      " [0.52584783 0.44514186]\n",
      " [0.03818328 0.18609378]\n",
      " [0.48704268 0.69475735]\n",
      " [0.60610945 0.96130085]\n",
      " [0.43570996 0.62244203]\n",
      " [0.4125345  0.66292255]\n",
      " [1.         0.6118109 ]\n",
      " [0.24660577 0.84774933]\n",
      " [0.29238382 0.66221079]\n",
      " [0.43567657 0.17439305]\n",
      " [0.74772195 0.17749077]\n",
      " [0.84357013 0.57423061]\n",
      " [0.92843027 0.22106181]\n",
      " [0.53405404 0.52714381]\n",
      " [0.38956944 0.42350432]\n",
      " [0.72106391 0.88414045]\n",
      " [0.55052645 0.8055387 ]\n",
      " [0.17223446 0.70666805]\n",
      " [0.65098907 0.87629456]\n",
      " [0.69624872 0.96745081]\n",
      " [0.31947097 0.44189151]\n",
      " [0.91782133 0.68197528]\n",
      " [0.86556634 0.83358311]\n",
      " [0.36439287 0.07276576]\n",
      " [0.63687092 0.79456445]\n",
      " [0.8569272  0.21613956]\n",
      " [0.76581739 0.26040749]\n",
      " [0.17490393 0.82765132]\n",
      " [0.99264933 0.55916635]\n",
      " [0.36235552 0.50286509]\n",
      " [0.64093004 0.86318813]]\n",
      "[[1.         0.06542784 0.69465488]\n",
      " [1.         0.00326632 0.19470455]\n",
      " [1.         0.08296784 0.61961779]\n",
      " [1.         0.43176427 0.81600135]\n",
      " [1.         0.7019434  0.65539214]\n",
      " [1.         0.2153456  0.37665959]\n",
      " [1.         0.44500891 0.96545859]\n",
      " [1.         0.64449684 0.23365526]\n",
      " [1.         0.65989108 0.83229079]\n",
      " [1.         0.77934283 0.18940757]\n",
      " [1.         0.94315096 0.11165142]\n",
      " [1.         0.64433793 0.        ]\n",
      " [1.         0.74887421 0.67205614]\n",
      " [1.         0.56336978 0.98314328]\n",
      " [1.         0.13586997 0.6655353 ]\n",
      " [1.         0.34273413 0.85846452]\n",
      " [1.         0.55914951 0.32427783]\n",
      " [1.         0.5430494  0.23547989]\n",
      " [1.         0.58195856 0.91295399]\n",
      " [1.         0.67250409 0.24862534]\n",
      " [1.         0.53481039 0.17922749]\n",
      " [1.         0.85450448 0.51557164]\n",
      " [1.         0.29348214 0.26737325]\n",
      " [1.         0.05952839 0.19931197]\n",
      " [1.         0.68605319 0.56205138]\n",
      " [1.         0.46169753 0.57643769]\n",
      " [1.         0.71853306 0.20827835]\n",
      " [1.         0.90377581 0.12008007]\n",
      " [1.         0.45537943 0.28788555]\n",
      " [1.         0.12508388 0.50379883]\n",
      " [1.         0.44891644 0.61823627]\n",
      " [1.         0.7932702  0.38743524]\n",
      " [1.         0.3160307  0.47643451]\n",
      " [1.         0.31513382 0.56879704]\n",
      " [1.         0.14588236 0.59421062]\n",
      " [1.         0.35225201 0.31656415]\n",
      " [1.         0.05527778 1.        ]\n",
      " [1.         0.48901588 0.73689201]\n",
      " [1.         0.64112153 0.16069675]\n",
      " [1.         0.05912103 0.65382979]\n",
      " [1.         0.77174023 0.37653763]\n",
      " [1.         0.3080005  0.23808317]\n",
      " [1.         0.92282407 0.51219597]\n",
      " [1.         0.74975856 0.14670505]\n",
      " [1.         0.30083445 0.2229426 ]\n",
      " [1.         0.4610047  0.31432447]\n",
      " [1.         0.67557495 0.58381678]\n",
      " [1.         0.97052763 0.82214305]\n",
      " [1.         0.45886031 0.9692291 ]\n",
      " [1.         0.88156804 0.85097827]\n",
      " [1.         0.71501627 0.63808845]\n",
      " [1.         0.99204044 0.44525373]\n",
      " [1.         0.86697331 0.18731589]\n",
      " [1.         0.06400678 0.43642522]\n",
      " [1.         0.28992337 0.28127072]\n",
      " [1.         0.27989286 0.42782079]\n",
      " [1.         0.96872217 0.56042851]\n",
      " [1.         0.03609592 0.95208625]\n",
      " [1.         0.63337365 0.57453504]\n",
      " [1.         0.59822584 0.70093719]\n",
      " [1.         0.64981247 0.80796493]\n",
      " [1.         0.07492278 0.24048881]\n",
      " [1.         0.37545302 0.12683016]\n",
      " [1.         0.         0.2781716 ]\n",
      " [1.         0.20939718 0.52510375]\n",
      " [1.         0.52318442 0.15364615]\n",
      " [1.         0.14904504 0.98045518]\n",
      " [1.         0.27252406 0.31172025]\n",
      " [1.         0.71981433 0.90107289]\n",
      " [1.         0.52584783 0.44514186]\n",
      " [1.         0.03818328 0.18609378]\n",
      " [1.         0.48704268 0.69475735]\n",
      " [1.         0.60610945 0.96130085]\n",
      " [1.         0.43570996 0.62244203]\n",
      " [1.         0.4125345  0.66292255]\n",
      " [1.         1.         0.6118109 ]\n",
      " [1.         0.24660577 0.84774933]\n",
      " [1.         0.29238382 0.66221079]\n",
      " [1.         0.43567657 0.17439305]\n",
      " [1.         0.74772195 0.17749077]\n",
      " [1.         0.84357013 0.57423061]\n",
      " [1.         0.92843027 0.22106181]\n",
      " [1.         0.53405404 0.52714381]\n",
      " [1.         0.38956944 0.42350432]\n",
      " [1.         0.72106391 0.88414045]\n",
      " [1.         0.55052645 0.8055387 ]\n",
      " [1.         0.17223446 0.70666805]\n",
      " [1.         0.65098907 0.87629456]\n",
      " [1.         0.69624872 0.96745081]\n",
      " [1.         0.31947097 0.44189151]\n",
      " [1.         0.91782133 0.68197528]\n",
      " [1.         0.86556634 0.83358311]\n",
      " [1.         0.36439287 0.07276576]\n",
      " [1.         0.63687092 0.79456445]\n",
      " [1.         0.8569272  0.21613956]\n",
      " [1.         0.76581739 0.26040749]\n",
      " [1.         0.17490393 0.82765132]\n",
      " [1.         0.99264933 0.55916635]\n",
      " [1.         0.36235552 0.50286509]\n",
      " [1.         0.64093004 0.86318813]]\n",
      "[[-1]\n",
      " [-1]\n",
      " [-1]\n",
      " [ 1]\n",
      " [ 1]\n",
      " [-1]\n",
      " [ 1]\n",
      " [ 1]\n",
      " [ 1]\n",
      " [ 1]\n",
      " [-1]\n",
      " [-1]\n",
      " [ 1]\n",
      " [ 1]\n",
      " [-1]\n",
      " [ 1]\n",
      " [ 1]\n",
      " [-1]\n",
      " [ 1]\n",
      " [ 1]\n",
      " [-1]\n",
      " [ 1]\n",
      " [-1]\n",
      " [-1]\n",
      " [ 1]\n",
      " [ 1]\n",
      " [ 1]\n",
      " [-1]\n",
      " [-1]\n",
      " [-1]\n",
      " [ 1]\n",
      " [ 1]\n",
      " [-1]\n",
      " [ 1]\n",
      " [-1]\n",
      " [-1]\n",
      " [-1]\n",
      " [ 1]\n",
      " [-1]\n",
      " [-1]\n",
      " [ 1]\n",
      " [-1]\n",
      " [ 1]\n",
      " [-1]\n",
      " [-1]\n",
      " [-1]\n",
      " [ 1]\n",
      " [ 1]\n",
      " [ 1]\n",
      " [ 1]\n",
      " [ 1]\n",
      " [ 1]\n",
      " [ 1]\n",
      " [-1]\n",
      " [-1]\n",
      " [-1]\n",
      " [ 1]\n",
      " [-1]\n",
      " [ 1]\n",
      " [ 1]\n",
      " [ 1]\n",
      " [-1]\n",
      " [-1]\n",
      " [-1]\n",
      " [-1]\n",
      " [-1]\n",
      " [ 1]\n",
      " [-1]\n",
      " [ 1]\n",
      " [ 1]\n",
      " [-1]\n",
      " [ 1]\n",
      " [ 1]\n",
      " [ 1]\n",
      " [ 1]\n",
      " [ 1]\n",
      " [ 1]\n",
      " [ 1]\n",
      " [-1]\n",
      " [-1]\n",
      " [ 1]\n",
      " [ 1]\n",
      " [ 1]\n",
      " [ 1]\n",
      " [ 1]\n",
      " [ 1]\n",
      " [-1]\n",
      " [ 1]\n",
      " [ 1]\n",
      " [-1]\n",
      " [ 1]\n",
      " [ 1]\n",
      " [-1]\n",
      " [ 1]\n",
      " [ 1]\n",
      " [ 1]\n",
      " [ 1]\n",
      " [ 1]\n",
      " [ 1]\n",
      " [ 1]]\n"
     ]
    }
   ],
   "source": [
    "# we use .values to obtain the underlying numpy array of the dataframe\n",
    "# we use iloc in order to access parts of the dataframe by using ranges; -1 is the last column\n",
    "X = data.iloc[:,0:-1].values\n",
    "\n",
    "# we normalize X\n",
    "maxX = np.max(X, axis=0)\n",
    "minX = np.min(X, axis=0)\n",
    "X = (X-minX)/(maxX-minX)\n",
    "print( X )\n",
    "\n",
    "\n",
    "# we insert an all-ones column at index 0\n",
    "X = np.insert(X, 0, 1, axis=1)\n",
    "\n",
    "print(X)\n",
    "\n",
    "y = data.iloc[:,-1:].values \n",
    "\n",
    "\n",
    "# we build a boolean index\n",
    "where_are_zeros = (y==0)\n",
    "y[where_are_zeros] = -1\n",
    "\n",
    "print(y)\n",
    "\n",
    "# uncomment the above printouts to see what's going one"
   ]
  },
  {
   "cell_type": "markdown",
   "metadata": {},
   "source": [
    "Now let's make the above into a function to use later"
   ]
  },
  {
   "cell_type": "code",
   "execution_count": 103,
   "metadata": {},
   "outputs": [],
   "source": [
    "def prepare(data):\n",
    "    X = data.iloc[:,0:-1].values\n",
    "\n",
    "    # we normalize X\n",
    "    maxX = np.max(X, axis=0)\n",
    "    minX = np.min(X, axis=0)\n",
    "    X = (X-minX)/(maxX-minX)\n",
    "\n",
    "    # we insert an all-ones column at index 0\n",
    "    X = np.insert(X, 0, 1, axis=1)\n",
    "\n",
    "    y = data.iloc[:,-1:].values \n",
    "\n",
    "    where_are_zeros = (y==0)\n",
    "    y[where_are_zeros] = -1\n",
    "    \n",
    "    return X,y\n",
    "\n",
    "\n",
    "X,y = prepare(data)\n",
    "#print(X)\n",
    "#print(y)"
   ]
  },
  {
   "cell_type": "markdown",
   "metadata": {},
   "source": [
    "Let's visualize X and y. We can create a function for that."
   ]
  },
  {
   "cell_type": "code",
   "execution_count": 104,
   "metadata": {},
   "outputs": [
    {
     "data": {
      "image/png": "[encoded data removed]",
      "text/plain": [
       "<Figure size 864x576 with 1 Axes>"
      ]
     },
     "metadata": {
      "needs_background": "light"
     },
     "output_type": "display_data"
    }
   ],
   "source": [
    "def visualize(X, y, col1=1, col2=2):\n",
    "    positive_indexes = np.where(y == 1)[0]  #only the first element of the result is needed, i.e. we do [0]\n",
    "    negative_indexes = np.where(y == -1)[0]\n",
    "\n",
    "    positive = X[positive_indexes]  # positive rows\n",
    "    negative = X[negative_indexes]  # negative rows\n",
    "\n",
    "    fig, ax = plt.subplots(figsize=(12,8))\n",
    "    ax.scatter(positive[:,1:2], positive[:,2:], s=50, c='b', marker='o', label='Positive')\n",
    "    ax.scatter(negative[:,1:2], negative[:,2:], s=50, c='r', marker='x', label='Negative')\n",
    "    ax.legend()\n",
    "    ax.set_xlabel('col' + str(col1))\n",
    "    ax.set_ylabel('col' + str(col2))\n",
    "\n",
    "    plt.show()\n",
    "    \n",
    "\n",
    "visualize(X,y)"
   ]
  },
  {
   "cell_type": "code",
   "execution_count": 105,
   "metadata": {},
   "outputs": [
    {
     "name": "stdout",
     "output_type": "stream",
     "text": [
      "[[-8.18922472  9.35074421  8.77019163]]\n"
     ]
    },
    {
     "data": {
      "image/png": "[encoded data removed]",
      "text/plain": [
       "<Figure size 432x288 with 1 Axes>"
      ]
     },
     "metadata": {
      "needs_background": "light"
     },
     "output_type": "display_data"
    }
   ],
   "source": [
    "w,E = fit(X,y,1,1000)\n",
    "print(w)\n",
    "plt.plot(E)\n",
    "plt.show()\n",
    "\n",
    "# We should get a decreasing curve"
   ]
  },
  {
   "cell_type": "markdown",
   "metadata": {},
   "source": [
    "Next we need to write a function that will output predictions for a dataset X using our learned parameters theta. We can then use this function to score the training accuracy of our classifier."
   ]
  },
  {
   "cell_type": "code",
   "execution_count": 106,
   "metadata": {},
   "outputs": [
    {
     "name": "stdout",
     "output_type": "stream",
     "text": [
      "0.89\n"
     ]
    }
   ],
   "source": [
    "#TODO\n",
    "def predict(w, X):\n",
    "    re = []\n",
    "    for x in X:\n",
    "        if(1/(1+np.exp(-w[0].T@x))>0.5):\n",
    "            re.append(1)\n",
    "        else:\n",
    "            re.append(-1)\n",
    "    return re\n",
    "\n",
    "#TODO\n",
    "def accuracy(y,y_pred):\n",
    "    count = 0\n",
    "    for i in range(len(y)):\n",
    "        if(y[i] == y_pred[i]):\n",
    "            count+=1\n",
    "            \n",
    "    return count/len(y)\n",
    "\n",
    "y_pred = predict(w,X)\n",
    "print( accuracy(y,y_pred) )"
   ]
  },
  {
   "cell_type": "markdown",
   "metadata": {},
   "source": [
    "Expected output: 0.89"
   ]
  },
  {
   "cell_type": "code",
   "execution_count": 107,
   "metadata": {},
   "outputs": [],
   "source": [
    "def split_train_test(X,y,pct=80):\n",
    "    n = X.shape[0]\n",
    "    s = round(n * pct / 100)\n",
    "    \n",
    "    indices = np.random.permutation(n)\n",
    "    train_idx, test_idx = indices[:s], indices[s:]\n",
    "    \n",
    "    X_train, X_test = X[train_idx,:], X[test_idx,:]\n",
    "    y_train, y_test = y[train_idx,:], y[test_idx,:]\n",
    "    \n",
    "    return X_train, y_train, X_test, y_test"
   ]
  },
  {
   "cell_type": "code",
   "execution_count": 108,
   "metadata": {},
   "outputs": [
    {
     "name": "stdout",
     "output_type": "stream",
     "text": [
      "[[-8.33596378 10.18094945  8.10307699]]\n"
     ]
    },
    {
     "data": {
      "image/png": "[encoded data removed]",
      "text/plain": [
       "<Figure size 432x288 with 1 Axes>"
      ]
     },
     "metadata": {
      "needs_background": "light"
     },
     "output_type": "display_data"
    },
    {
     "name": "stdout",
     "output_type": "stream",
     "text": [
      "0.85\n"
     ]
    }
   ],
   "source": [
    "X_train, y_train, X_test, y_test = split_train_test(X,y,pct=80)\n",
    "w,E = fit(X_train,y_train,1,1000)\n",
    "print(w)\n",
    "plt.plot(E)\n",
    "plt.show()\n",
    "y_pred = predict(w,X_test)\n",
    "print( accuracy(y_test,y_pred) )"
   ]
  },
  {
   "cell_type": "markdown",
   "metadata": {},
   "source": [
    "Expected output: \n",
    "\n",
    "[[-8.10599158  9.01450903  8.71087333]]\n",
    "\n",
    "A decreasing curve. \n",
    "\n",
    "Accuracy: 0.95\n",
    "\n",
    "Results may vary due to the randomized nature of the train/test split. "
   ]
  },
  {
   "cell_type": "markdown",
   "metadata": {},
   "source": [
    "Ex. 3 (10 pts). Linear Regression\n",
    "--\n",
    "\n",
    "Extend the linear regression algorithm for Python on the slides to:\n",
    "\n",
    "1.\tRead the data from a file (regdata.csv)\n",
    "2.\tScale the attributes\n",
    "3.\tCompute the error at each iteration and save the error values in a list\n",
    "4.\tPlot the error list as a curve in the end\n",
    "5.\tFind a good learning rate based on the error curve.\n",
    "\n",
    "**Hints.**\n",
    "1. y in the slides of linear regression is a row matrix. So, when extracting it from the dataset be careful to turn it into a row matrix.\n",
    "2. Do not forget to add the \"dummy\" attribute (all ones) to X. \n",
    "3. For this dataset the kappa should be quite small in order to have a decreasing E. "
   ]
  },
  {
   "cell_type": "code",
   "execution_count": 112,
   "metadata": {},
   "outputs": [
    {
     "name": "stdout",
     "output_type": "stream",
     "text": [
      "[[47.38039898  8.00751244 37.42805933]]\n"
     ]
    },
    {
     "data": {
      "image/png": "[encoded data removed]",
      "text/plain": [
       "<Figure size 432x288 with 1 Axes>"
      ]
     },
     "metadata": {
      "needs_background": "light"
     },
     "output_type": "display_data"
    }
   ],
   "source": [
    "def linear_reg(X,y,kappa,iter):\n",
    "    w = np.zeros((1,X.shape[1]))\n",
    "    E = []\n",
    "\n",
    "    #TODO\n",
    "    for i in range(iter):\n",
    "        E.append((1/(2*X.shape[0]))*(np.sum((y-X@w.T)**2)))\n",
    "        w = w+kappa*1/X.shape[0]*(np.sum((y-X@w.T)*X,axis=0,keepdims =True))\n",
    "    \n",
    "    return w,E\n",
    "            \n",
    "data = pd.read_csv('regdata.csv', header=None, names=['x1', 'x2', 'y'])\n",
    "#Referrence from the function \"prepare\" in the above cell\n",
    "X = data.iloc[:,0:-1].values\n",
    "\n",
    "# we normalize X\n",
    "maxX = np.max(X, axis=0)\n",
    "minX = np.min(X, axis=0)\n",
    "X = (X-minX)/(maxX-minX)\n",
    "\n",
    "# we insert an all-ones column at index 0\n",
    "X = np.insert(X, 0, 1, axis=1)\n",
    "\n",
    "y = data.iloc[:,-1:].values \n",
    "\n",
    "w,E = linear_reg(X,y,0.9,100)\n",
    "print(w)\n",
    "plt.plot(E)\n",
    "plt.show()"
   ]
  },
  {
   "cell_type": "code",
   "execution_count": null,
   "metadata": {},
   "outputs": [],
   "source": []
  }
 ],
 "metadata": {
  "kernelspec": {
   "display_name": "Python 3",
   "language": "python",
   "name": "python3"
  },
  "language_info": {
   "codemirror_mode": {
    "name": "ipython",
    "version": 3
   },
   "file_extension": ".py",
   "mimetype": "text/x-python",
   "name": "python",
   "nbconvert_exporter": "python",
   "pygments_lexer": "ipython3",
   "version": "3.7.0"
  }
 },
 "nbformat": 4,
 "nbformat_minor": 2
}
